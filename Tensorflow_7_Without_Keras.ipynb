{
  "nbformat": 4,
  "nbformat_minor": 0,
  "metadata": {
    "colab": {
      "name": "Tensorflow-7-Without-Keras.ipynb",
      "provenance": [],
      "collapsed_sections": [],
      "toc_visible": true
    },
    "kernelspec": {
      "name": "python3",
      "display_name": "Python 3"
    },
    "language_info": {
      "name": "python"
    }
  },
  "cells": [
    {
      "cell_type": "markdown",
      "source": [
        "# Preliminaries"
      ],
      "metadata": {
        "id": "A7Qo-WfX5rQX"
      }
    },
    {
      "cell_type": "code",
      "execution_count": 51,
      "metadata": {
        "id": "Ch9Cjkor5fNy"
      },
      "outputs": [],
      "source": [
        "import tensorflow as tf\n",
        "import numpy as np"
      ]
    },
    {
      "cell_type": "code",
      "source": [
        "config = {\n",
        "    'learning_rate':0.01,\n",
        "    'batch_size':256,\n",
        "    'num_epochs':3\n",
        "}"
      ],
      "metadata": {
        "id": "X-3epZ9EQDlS"
      },
      "execution_count": 92,
      "outputs": []
    },
    {
      "cell_type": "markdown",
      "source": [
        "# Working with tensors"
      ],
      "metadata": {
        "id": "ZglKc9L27TIY"
      }
    },
    {
      "cell_type": "markdown",
      "source": [
        "Note that tensors cannot be changed and variables (which are special types of tensors) can be changed. Therefore, the weights of a neural network are usually stored in some variables."
      ],
      "metadata": {
        "id": "bqglQJw-6BPG"
      }
    },
    {
      "cell_type": "code",
      "source": [
        "t = tf.constant([[1,2,3],[4,5,6]])\n",
        "print(t)\n",
        "print(f'This {t.shape} tensor is of data type {t.dtype} (but of type {type(t)}) and is stored on {t.device}')\n",
        "print(f'The second column of this tensor is {t[:,1]}')"
      ],
      "metadata": {
        "colab": {
          "base_uri": "https://localhost:8080/"
        },
        "id": "Oah0lD1j5uSu",
        "outputId": "57cb4c5d-e9d0-4050-cde9-aa6f1bf7e93c"
      },
      "execution_count": 12,
      "outputs": [
        {
          "output_type": "stream",
          "name": "stdout",
          "text": [
            "tf.Tensor(\n",
            "[[1 2 3]\n",
            " [4 5 6]], shape=(2, 3), dtype=int32)\n",
            "This (2, 3) tensor is of data type <dtype: 'int32'> (but of type <class 'tensorflow.python.framework.ops.EagerTensor'>) and is stored on /job:localhost/replica:0/task:0/device:CPU:0\n",
            "The second column of this tensor is [2 5]\n"
          ]
        }
      ]
    },
    {
      "cell_type": "markdown",
      "source": [
        "Converting to a numpy array"
      ],
      "metadata": {
        "id": "_qleC-eC7Wnl"
      }
    },
    {
      "cell_type": "code",
      "source": [
        "t.numpy()"
      ],
      "metadata": {
        "colab": {
          "base_uri": "https://localhost:8080/"
        },
        "id": "V5zBFQTR69Zx",
        "outputId": "e4bdc668-2cdf-4e02-c29f-1d2876a87d15"
      },
      "execution_count": 8,
      "outputs": [
        {
          "output_type": "execute_result",
          "data": {
            "text/plain": [
              "array([[1, 2, 3],\n",
              "       [4, 5, 6]], dtype=int32)"
            ]
          },
          "metadata": {},
          "execution_count": 8
        }
      ]
    },
    {
      "cell_type": "markdown",
      "source": [
        "# Working with variables"
      ],
      "metadata": {
        "id": "6FY4HO2O7fA1"
      }
    },
    {
      "cell_type": "code",
      "source": [
        "v = tf.Variable([[1,2,3],[4,5,6]])\n",
        "print(v)\n",
        "print(f'This {v.shape} variable is of data type {v.dtype} (but of type {type(v)}) and is stored on {v.device}')\n",
        "print(f'The second column of this variable is {v[:,1]}')"
      ],
      "metadata": {
        "colab": {
          "base_uri": "https://localhost:8080/"
        },
        "id": "OUjSitu06k2B",
        "outputId": "d5bef475-7ca9-4086-c951-e746ce9bf781"
      },
      "execution_count": 14,
      "outputs": [
        {
          "output_type": "stream",
          "name": "stdout",
          "text": [
            "<tf.Variable 'Variable:0' shape=(2, 3) dtype=int32, numpy=\n",
            "array([[1, 2, 3],\n",
            "       [4, 5, 6]], dtype=int32)>\n",
            "This (2, 3) variable is of data type <dtype: 'int32'> (but of type <class 'tensorflow.python.ops.resource_variable_ops.ResourceVariable'>) and is stored on /job:localhost/replica:0/task:0/device:CPU:0\n",
            "The second column of this variable is [2 5]\n"
          ]
        }
      ]
    },
    {
      "cell_type": "markdown",
      "source": [
        "The value of a variable can be changed"
      ],
      "metadata": {
        "id": "9S9XIrTO8Qck"
      }
    },
    {
      "cell_type": "code",
      "source": [
        "v.assign([[7,7,7],[8,8,8]])"
      ],
      "metadata": {
        "colab": {
          "base_uri": "https://localhost:8080/"
        },
        "id": "_VHnG4Qg7nE_",
        "outputId": "245d42a7-df92-44ec-8595-ab16adbf4b19"
      },
      "execution_count": 15,
      "outputs": [
        {
          "output_type": "execute_result",
          "data": {
            "text/plain": [
              "<tf.Variable 'UnreadVariable' shape=(2, 3) dtype=int32, numpy=\n",
              "array([[7, 7, 7],\n",
              "       [8, 8, 8]], dtype=int32)>"
            ]
          },
          "metadata": {},
          "execution_count": 15
        }
      ]
    },
    {
      "cell_type": "code",
      "source": [
        "print(v)"
      ],
      "metadata": {
        "colab": {
          "base_uri": "https://localhost:8080/"
        },
        "id": "DBhGxZAi8HYt",
        "outputId": "be5236ac-de66-4286-9790-011243641818"
      },
      "execution_count": 16,
      "outputs": [
        {
          "output_type": "stream",
          "name": "stdout",
          "text": [
            "<tf.Variable 'Variable:0' shape=(2, 3) dtype=int32, numpy=\n",
            "array([[7, 7, 7],\n",
            "       [8, 8, 8]], dtype=int32)>\n"
          ]
        }
      ]
    },
    {
      "cell_type": "markdown",
      "source": [
        "Notice that the new value should be compatible with the original shape of the corresponding variable! (Otherwise, you'll get a ValueError)"
      ],
      "metadata": {
        "id": "dF8V4Vrq8SkN"
      }
    },
    {
      "cell_type": "code",
      "source": [
        "v.assign([[9,9]])"
      ],
      "metadata": {
        "colab": {
          "base_uri": "https://localhost:8080/",
          "height": 329
        },
        "id": "uJuJqoqo8J_O",
        "outputId": "0a0a1e0e-cbcc-4646-f2d8-c7c07e702891"
      },
      "execution_count": 17,
      "outputs": [
        {
          "output_type": "error",
          "ename": "ValueError",
          "evalue": "ignored",
          "traceback": [
            "\u001b[0;31m---------------------------------------------------------------------------\u001b[0m",
            "\u001b[0;31mValueError\u001b[0m                                Traceback (most recent call last)",
            "\u001b[0;32m<ipython-input-17-9b58b1b15444>\u001b[0m in \u001b[0;36m<module>\u001b[0;34m()\u001b[0m\n\u001b[0;32m----> 1\u001b[0;31m \u001b[0mv\u001b[0m\u001b[0;34m.\u001b[0m\u001b[0massign\u001b[0m\u001b[0;34m(\u001b[0m\u001b[0;34m[\u001b[0m\u001b[0;34m[\u001b[0m\u001b[0;36m9\u001b[0m\u001b[0;34m,\u001b[0m\u001b[0;36m9\u001b[0m\u001b[0;34m]\u001b[0m\u001b[0;34m]\u001b[0m\u001b[0;34m)\u001b[0m\u001b[0;34m\u001b[0m\u001b[0;34m\u001b[0m\u001b[0m\n\u001b[0m",
            "\u001b[0;32m/usr/local/lib/python3.7/dist-packages/tensorflow/python/ops/resource_variable_ops.py\u001b[0m in \u001b[0;36massign\u001b[0;34m(self, value, use_locking, name, read_value)\u001b[0m\n\u001b[1;32m    939\u001b[0m           \u001b[0mtensor_name\u001b[0m \u001b[0;34m=\u001b[0m \u001b[0;34m\" \"\u001b[0m \u001b[0;34m+\u001b[0m \u001b[0mstr\u001b[0m\u001b[0;34m(\u001b[0m\u001b[0mself\u001b[0m\u001b[0;34m.\u001b[0m\u001b[0mname\u001b[0m\u001b[0;34m)\u001b[0m\u001b[0;34m\u001b[0m\u001b[0;34m\u001b[0m\u001b[0m\n\u001b[1;32m    940\u001b[0m         raise ValueError(\n\u001b[0;32m--> 941\u001b[0;31m             (f\"Cannot assign value to variable '{tensor_name}': Shape mismatch.\"\n\u001b[0m\u001b[1;32m    942\u001b[0m              \u001b[0;34mf\"The variable shape {self._shape}, and the \"\u001b[0m\u001b[0;34m\u001b[0m\u001b[0;34m\u001b[0m\u001b[0m\n\u001b[1;32m    943\u001b[0m              f\"assigned value shape {value_tensor.shape} are incompatible.\"))\n",
            "\u001b[0;31mValueError\u001b[0m: Cannot assign value to variable ' Variable:0': Shape mismatch.The variable shape (2, 3), and the assigned value shape (1, 2) are incompatible."
          ]
        }
      ]
    },
    {
      "cell_type": "markdown",
      "source": [
        "Another way of changing a variable is to add something to it"
      ],
      "metadata": {
        "id": "h63a9tM-8mGs"
      }
    },
    {
      "cell_type": "code",
      "source": [
        "v.assign_add([[1,1,1],[1,1,1]])\n",
        "print(v)"
      ],
      "metadata": {
        "colab": {
          "base_uri": "https://localhost:8080/"
        },
        "id": "htxJnQl68NZJ",
        "outputId": "38c407fe-d32e-4a9e-edbb-200ab7a5713c"
      },
      "execution_count": 18,
      "outputs": [
        {
          "output_type": "stream",
          "name": "stdout",
          "text": [
            "<tf.Variable 'Variable:0' shape=(2, 3) dtype=int32, numpy=\n",
            "array([[8, 8, 8],\n",
            "       [9, 9, 9]], dtype=int32)>\n"
          ]
        }
      ]
    },
    {
      "cell_type": "code",
      "source": [
        "v.assign_sub([[1,1,1],[1,1,1]])\n",
        "print(v)"
      ],
      "metadata": {
        "colab": {
          "base_uri": "https://localhost:8080/"
        },
        "id": "1U6yKLFG8w1v",
        "outputId": "233b5fa5-9cd3-469d-d634-46e183b97017"
      },
      "execution_count": 19,
      "outputs": [
        {
          "output_type": "stream",
          "name": "stdout",
          "text": [
            "<tf.Variable 'Variable:0' shape=(2, 3) dtype=int32, numpy=\n",
            "array([[7, 7, 7],\n",
            "       [8, 8, 8]], dtype=int32)>\n"
          ]
        }
      ]
    },
    {
      "cell_type": "markdown",
      "source": [
        "# Gradient Tape"
      ],
      "metadata": {
        "id": "sPDeJJoYBbwk"
      }
    },
    {
      "cell_type": "code",
      "source": [
        "x = tf.constant(2, dtype=tf.float32) # if the data type is int32, TF cannot compute the gradient"
      ],
      "metadata": {
        "id": "F8G7036I843Q"
      },
      "execution_count": 27,
      "outputs": []
    },
    {
      "cell_type": "code",
      "source": [
        "with tf.GradientTape(persistent=False) as tape: # we want to compute just one gradient, so persistent=False\n",
        "    tape.watch(x)\n",
        "    y = x**2 + 2*x"
      ],
      "metadata": {
        "id": "k6_50FuHBpWW"
      },
      "execution_count": 30,
      "outputs": []
    },
    {
      "cell_type": "markdown",
      "source": [
        "$\\dfrac{\\partial y}{\\partial x}=\\dfrac{\\partial (x^2+2x)}{\\partial x}=2x+2$<br><br>\n",
        "$x=2 \\implies 2x+2 = 6$"
      ],
      "metadata": {
        "id": "-uF7J_uECe0s"
      }
    },
    {
      "cell_type": "code",
      "source": [
        "print(tape.gradient(y,x)) # dy/dx"
      ],
      "metadata": {
        "colab": {
          "base_uri": "https://localhost:8080/"
        },
        "id": "NKOEPouoB-3J",
        "outputId": "5e44237d-15fe-45e7-9884-d37c041029b6"
      },
      "execution_count": 31,
      "outputs": [
        {
          "output_type": "stream",
          "name": "stdout",
          "text": [
            "tf.Tensor(6.0, shape=(), dtype=float32)\n"
          ]
        }
      ]
    },
    {
      "cell_type": "code",
      "source": [
        "z = tf.constant(3, dtype=tf.float32)"
      ],
      "metadata": {
        "id": "hyoMNrhzDJ82"
      },
      "execution_count": 32,
      "outputs": []
    },
    {
      "cell_type": "code",
      "source": [
        "with tf.GradientTape(persistent=True) as tape:\n",
        "    tape.watch(x)\n",
        "    tape.watch(z)\n",
        "    y = x**2 + 2*x + z**3"
      ],
      "metadata": {
        "id": "-drVU2UzCDYK"
      },
      "execution_count": 37,
      "outputs": []
    },
    {
      "cell_type": "markdown",
      "source": [
        "Note that $\\dfrac{\\partial y}{\\partial x}$ is the same.<br><br>\n",
        "We have: $\\dfrac{\\partial y}{\\partial z}=\\dfrac{\\partial(x^2+2x+z^3)}{\\partial z}=3z^2$<br><br>\n",
        "$z=3 \\implies 3z^2 = 3(9)=27$"
      ],
      "metadata": {
        "id": "20iUvzxiDomq"
      }
    },
    {
      "cell_type": "code",
      "source": [
        "print(tape.gradient(y,x)) # dy/dx\n",
        "print(tape.gradient(y,z)) # dy/dz"
      ],
      "metadata": {
        "colab": {
          "base_uri": "https://localhost:8080/"
        },
        "id": "jXP9sist6SAI",
        "outputId": "21f09c73-eb13-4116-fb1f-22ac027a6099"
      },
      "execution_count": 38,
      "outputs": [
        {
          "output_type": "stream",
          "name": "stdout",
          "text": [
            "tf.Tensor(6.0, shape=(), dtype=float32)\n",
            "tf.Tensor(27.0, shape=(), dtype=float32)\n"
          ]
        }
      ]
    },
    {
      "cell_type": "markdown",
      "source": [
        "# Define a Model"
      ],
      "metadata": {
        "id": "mq6g_0h0KTWd"
      }
    },
    {
      "cell_type": "markdown",
      "source": [
        "## Glorot Uniform (Xavier) Initialization"
      ],
      "metadata": {
        "id": "mWpz6BhJdt8O"
      }
    },
    {
      "cell_type": "markdown",
      "source": [
        "Glorot Uniform: Draws samples from a uniform distribution within `[-limit, limit]`, where `limit = sqrt(6 / (fan_in + fan_out))` (`fan_in` is the number of input units in the weight tensor and `fan_out` is the number of output units). (Source: TF Website)"
      ],
      "metadata": {
        "id": "6hEYE3Q2ap_U"
      }
    },
    {
      "cell_type": "markdown",
      "source": [
        "For example, each weight that connects an input node to a hidden node has `fan_in` of the number of input nodes and `fan_out` of the number of hidden nodes. (Source: [Here](https://jamesmccaffrey.wordpress.com/2017/06/21/neural-network-glorot-initialization/))"
      ],
      "metadata": {
        "id": "pSPAL9jAcXmO"
      }
    },
    {
      "cell_type": "markdown",
      "source": [
        "```for-each input-hidden weight```<br>\n",
        "```  variance = 6.0 / (fan-in +fan-out)```<br>\n",
        "```  stddev = sqrt(variance)```<br>\n",
        "```  weight = Uniform(-stddev, stddev)```<br>\n",
        "```end-for```"
      ],
      "metadata": {
        "id": "D00X2qiDdA49"
      }
    },
    {
      "cell_type": "markdown",
      "source": [
        "The goal of Xavier Initialization is to initialize the weights such that the variance of the activations are the same across every layer. This constant variance helps prevent the gradient from exploding or vanishing. (Source: [Here](https://datascience.stackexchange.com/questions/102733/what-is-glorot-uniform))"
      ],
      "metadata": {
        "id": "UdE0BAf8b4ME"
      }
    },
    {
      "cell_type": "code",
      "source": [
        "class MyModel(tf.keras.Model):\n",
        "    def __init__(self):\n",
        "        super(MyModel, self).__init__()\n",
        "        initializer = tf.keras.initializers.GlorotUniform()\n",
        "        self.w = tf.Variable(initializer(shape=(1,)))\n",
        "        self.b = tf.Variable(initializer(shape=(1,)))\n",
        "    def call(self, x: tf.Tensor) -> tf.Tensor:\n",
        "        y = (self.w)*x + self.b\n",
        "        return y"
      ],
      "metadata": {
        "id": "iXRA3GVJDmtd"
      },
      "execution_count": 93,
      "outputs": []
    },
    {
      "cell_type": "code",
      "source": [
        "model = MyModel()"
      ],
      "metadata": {
        "id": "eFZakRMFK-pa"
      },
      "execution_count": 94,
      "outputs": []
    },
    {
      "cell_type": "code",
      "source": [
        "model(np.zeros((1,)))"
      ],
      "metadata": {
        "colab": {
          "base_uri": "https://localhost:8080/"
        },
        "id": "K4KOhX-BLA32",
        "outputId": "efedaf72-45ea-4282-c5b8-e13bf9232a6d"
      },
      "execution_count": 95,
      "outputs": [
        {
          "output_type": "execute_result",
          "data": {
            "text/plain": [
              "<tf.Tensor: shape=(1,), dtype=float32, numpy=array([-1.5666912], dtype=float32)>"
            ]
          },
          "metadata": {},
          "execution_count": 95
        }
      ]
    },
    {
      "cell_type": "markdown",
      "source": [
        "# Optimization"
      ],
      "metadata": {
        "id": "SbafxAq5MtmE"
      }
    },
    {
      "cell_type": "markdown",
      "source": [
        "## Making a Dummy Dataset"
      ],
      "metadata": {
        "id": "_VyoXQ6xNX6t"
      }
    },
    {
      "cell_type": "code",
      "source": [
        "features = np.random.rand(2000, 1)\n",
        "features.shape"
      ],
      "metadata": {
        "colab": {
          "base_uri": "https://localhost:8080/"
        },
        "id": "nfTcBPW7LiNd",
        "outputId": "45d4f8c0-c692-43ab-ce74-bfc643395f18"
      },
      "execution_count": 96,
      "outputs": [
        {
          "output_type": "execute_result",
          "data": {
            "text/plain": [
              "(2000, 1)"
            ]
          },
          "metadata": {},
          "execution_count": 96
        }
      ]
    },
    {
      "cell_type": "code",
      "source": [
        "true_outputs = np.random.rand(2000,1)\n",
        "true_outputs.shape"
      ],
      "metadata": {
        "colab": {
          "base_uri": "https://localhost:8080/"
        },
        "id": "Q_UqVkXFNEME",
        "outputId": "34df8b3c-c3f0-4c2c-ad04-7557637df1c8"
      },
      "execution_count": 97,
      "outputs": [
        {
          "output_type": "execute_result",
          "data": {
            "text/plain": [
              "(2000, 1)"
            ]
          },
          "metadata": {},
          "execution_count": 97
        }
      ]
    },
    {
      "cell_type": "code",
      "source": [
        "opt_dataset = tf.data.Dataset.from_tensor_slices((features, true_outputs))"
      ],
      "metadata": {
        "id": "VVj0Nvt3NQwE"
      },
      "execution_count": 98,
      "outputs": []
    },
    {
      "cell_type": "markdown",
      "source": [
        "## Training Loop"
      ],
      "metadata": {
        "id": "voGJOEyyNhhy"
      }
    },
    {
      "cell_type": "code",
      "source": [
        "def optimize_given_a_batch(features, true_outputs, model, loss_fn, optimizer):\n",
        "\n",
        "    with tf.GradientTape(persistent=False) as tape:\n",
        "        model_outputs = model(features, training=True)\n",
        "        loss = loss_fn(true_outputs, model_outputs)\n",
        "    \n",
        "    gradients = tape.gradient(loss, model.trainable_variables)\n",
        "    optimizer.apply_gradients(zip(gradients, model.trainable_variables))\n",
        "\n",
        "    return (model_outputs, loss)"
      ],
      "metadata": {
        "id": "kUaFoYUsNddJ"
      },
      "execution_count": 99,
      "outputs": []
    },
    {
      "cell_type": "code",
      "source": [
        "def optimize_on_a_dataset(dataset, model, loss_fn, optimizer, epoch_number):\n",
        "    num_batches = len(dataset)\n",
        "    total_loss = 0\n",
        "\n",
        "    for batch_num, (features, true_outputs) in enumerate(dataset):\n",
        "        (model_outputs, batch_loss) = optimize_given_a_batch(features, true_outputs, model, loss_fn, optimizer)\n",
        "        batch_loss = batch_loss.numpy()\n",
        "        total_loss += batch_loss\n",
        "        avg_loss = total_loss/((batch_num+1)*config['batch_size'])\n",
        "        print(f'\\r Epoch {epoch_number} - batch loss: {batch_loss} - avg loss: {avg_loss}', end=' ')"
      ],
      "metadata": {
        "id": "jQL65vFjOhRZ"
      },
      "execution_count": 100,
      "outputs": []
    },
    {
      "cell_type": "code",
      "source": [
        "%%time\n",
        "loss_fn = tf.keras.losses.MeanSquaredError()\n",
        "optimizer = tf.optimizers.SGD(config['learning_rate'])\n",
        "for epoch_number in range(1, config['num_epochs']+1):\n",
        "  print(f'\\rEpoch {epoch_number + 1} - ', end=' ')\n",
        "  optimize_on_a_dataset(opt_dataset, model, loss_fn, optimizer, epoch_number)"
      ],
      "metadata": {
        "colab": {
          "base_uri": "https://localhost:8080/"
        },
        "id": "VAW_wptqP-eF",
        "outputId": "552a18a2-17d3-44b2-e4c4-2df3a21a4343"
      },
      "execution_count": 101,
      "outputs": [
        {
          "output_type": "stream",
          "name": "stdout",
          "text": [
            " Epoch 3 - batch loss: 0.1513349413871765 - avg loss: 0.00032449884124537034 CPU times: user 31 s, sys: 927 ms, total: 32 s\n",
            "Wall time: 41.3 s\n"
          ]
        }
      ]
    },
    {
      "cell_type": "markdown",
      "source": [
        "## Prediction"
      ],
      "metadata": {
        "id": "ilPRzEm7WvoH"
      }
    },
    {
      "cell_type": "code",
      "source": [
        "model(np.random.rand(5,1))"
      ],
      "metadata": {
        "colab": {
          "base_uri": "https://localhost:8080/"
        },
        "id": "t5Jt8d-4Qif8",
        "outputId": "882b4e58-0038-49ee-971c-dd1282c46b9c"
      },
      "execution_count": 91,
      "outputs": [
        {
          "output_type": "execute_result",
          "data": {
            "text/plain": [
              "<tf.Tensor: shape=(5, 1), dtype=float32, numpy=\n",
              "array([[0.50818604],\n",
              "       [0.5004108 ],\n",
              "       [0.49030745],\n",
              "       [0.5047164 ],\n",
              "       [0.5082203 ]], dtype=float32)>"
            ]
          },
          "metadata": {},
          "execution_count": 91
        }
      ]
    },
    {
      "cell_type": "markdown",
      "source": [
        "# Eager Execution vs. Graph Execution"
      ],
      "metadata": {
        "id": "N_xx-QvBWzQq"
      }
    },
    {
      "cell_type": "markdown",
      "source": [
        "The way the above code runs is the default (through Eager Execution). We usually use Eager Execution for the development phase, and when we are done (e.g., we have optimized our parameters), we use the Graph Execution which is a lot faster. <br>\n",
        "In this way, Tensorflow makes a computational graph the first time it does the operations and uses this graph instead of the Python code for the next times.<br>\n",
        "Notice that the computational graph can be used to employ the model on embedded devices (even those not supporting Tensorflow)!<br>\n",
        "To execute a function using the Graph mode, we need to use a `@tf.function` decorator.\n"
      ],
      "metadata": {
        "id": "mr0IWfDEYKuK"
      }
    },
    {
      "cell_type": "code",
      "source": [
        "@tf.function\n",
        "def optimize_given_a_batch(features, true_outputs, model, loss_fn, optimizer):\n",
        "\n",
        "    with tf.GradientTape(persistent=False) as tape:\n",
        "        model_outputs = model(features, training=True)\n",
        "        loss = loss_fn(true_outputs, model_outputs)\n",
        "    \n",
        "    gradients = tape.gradient(loss, model.trainable_variables)\n",
        "    optimizer.apply_gradients(zip(gradients, model.trainable_variables))\n",
        "\n",
        "    return (model_outputs, loss)"
      ],
      "metadata": {
        "id": "Nd-BFSJIWrzD"
      },
      "execution_count": 106,
      "outputs": []
    },
    {
      "cell_type": "code",
      "source": [
        "model = MyModel()"
      ],
      "metadata": {
        "id": "TH8I-Q1hYBjv"
      },
      "execution_count": 107,
      "outputs": []
    },
    {
      "cell_type": "markdown",
      "source": [
        "Notice the difference in the training time!"
      ],
      "metadata": {
        "id": "EZlK--aAY6I6"
      }
    },
    {
      "cell_type": "code",
      "source": [
        "%%time\n",
        "loss_fn = tf.keras.losses.MeanSquaredError()\n",
        "optimizer = tf.optimizers.SGD(config['learning_rate'])\n",
        "for epoch_number in range(1, config['num_epochs']+1):\n",
        "  print(f'\\rEpoch {epoch_number + 1} - ', end=' ')\n",
        "  optimize_on_a_dataset(opt_dataset, model, loss_fn, optimizer, epoch_number)"
      ],
      "metadata": {
        "colab": {
          "base_uri": "https://localhost:8080/"
        },
        "id": "YM8DDkirX_Nt",
        "outputId": "cd773f24-1b00-4e1c-fbc9-93135086e8b0"
      },
      "execution_count": 108,
      "outputs": [
        {
          "output_type": "stream",
          "name": "stdout",
          "text": [
            " Epoch 3 - batch loss: 0.15135984122753143 - avg loss: 0.00032448865403175334 CPU times: user 9.93 s, sys: 1.06 s, total: 11 s\n",
            "Wall time: 13.4 s\n"
          ]
        }
      ]
    }
  ]
}