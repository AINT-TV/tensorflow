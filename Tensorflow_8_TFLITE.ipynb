{
  "nbformat": 4,
  "nbformat_minor": 0,
  "metadata": {
    "colab": {
      "name": "Tensorflow-8-TFLITE.ipynb",
      "provenance": [],
      "collapsed_sections": []
    },
    "kernelspec": {
      "name": "python3",
      "display_name": "Python 3"
    },
    "language_info": {
      "name": "python"
    }
  },
  "cells": [
    {
      "cell_type": "markdown",
      "source": [
        "# Preliminaries"
      ],
      "metadata": {
        "id": "3U0oSevMpJDi"
      }
    },
    {
      "cell_type": "code",
      "execution_count": 84,
      "metadata": {
        "id": "LjOOHwtNnS9j"
      },
      "outputs": [],
      "source": [
        "import tensorflow as tf\n",
        "import numpy as np"
      ]
    },
    {
      "cell_type": "markdown",
      "source": [
        "# Neural Net Definition"
      ],
      "metadata": {
        "id": "yAhpGMN8pcU0"
      }
    },
    {
      "cell_type": "code",
      "source": [
        "class my_neural_net(tf.keras.Model):\n",
        "    def __init__(self):\n",
        "        super(my_neural_net, self).__init__() # first of all, call the init method of the class it extends from\n",
        "        self.all_in_one = tf.keras.Sequential([\n",
        "                                               tf.keras.layers.Dense(20, activation='relu', input_shape=(1000,)),\n",
        "                                               tf.keras.layers.Dense(5, activation='softmax')\n",
        "        ])\n",
        "    def call(self, x: tf.Tensor) -> tf.Tensor:\n",
        "        output = self.all_in_one(x)\n",
        "        return output"
      ],
      "metadata": {
        "id": "foAn9rLbpdXt"
      },
      "execution_count": 85,
      "outputs": []
    },
    {
      "cell_type": "code",
      "source": [
        "model = my_neural_net()"
      ],
      "metadata": {
        "id": "mlsOB79Dpfjs"
      },
      "execution_count": 86,
      "outputs": []
    },
    {
      "cell_type": "code",
      "source": [
        "model.build((1,1000))"
      ],
      "metadata": {
        "id": "cSBjBt2jrIDN"
      },
      "execution_count": 87,
      "outputs": []
    },
    {
      "cell_type": "code",
      "source": [
        "model.compile()"
      ],
      "metadata": {
        "id": "DVWi9n4Op14x"
      },
      "execution_count": 88,
      "outputs": []
    },
    {
      "cell_type": "code",
      "source": [
        "model(np.random.rand(2,1000))"
      ],
      "metadata": {
        "colab": {
          "base_uri": "https://localhost:8080/"
        },
        "id": "J9qc58whqBRY",
        "outputId": "72415161-4d7b-4287-c5af-0706d8a6f8f6"
      },
      "execution_count": 89,
      "outputs": [
        {
          "output_type": "execute_result",
          "data": {
            "text/plain": [
              "<tf.Tensor: shape=(2, 5), dtype=float32, numpy=\n",
              "array([[0.05868606, 0.15921192, 0.07081547, 0.67329156, 0.03799501],\n",
              "       [0.20250817, 0.11129512, 0.07229699, 0.49592248, 0.1179772 ]],\n",
              "      dtype=float32)>"
            ]
          },
          "metadata": {},
          "execution_count": 89
        }
      ]
    },
    {
      "cell_type": "markdown",
      "source": [
        "# Saving the Model"
      ],
      "metadata": {
        "id": "eVYOaaHOrbYa"
      }
    },
    {
      "cell_type": "code",
      "source": [
        "model.save('/model')"
      ],
      "metadata": {
        "colab": {
          "base_uri": "https://localhost:8080/"
        },
        "id": "dRb7CJmkrcPS",
        "outputId": "c363ff87-8666-45e1-82ac-926babdc2b56"
      },
      "execution_count": 90,
      "outputs": [
        {
          "output_type": "stream",
          "name": "stdout",
          "text": [
            "INFO:tensorflow:Assets written to: /model/assets\n"
          ]
        },
        {
          "output_type": "stream",
          "name": "stderr",
          "text": [
            "INFO:tensorflow:Assets written to: /model/assets\n"
          ]
        }
      ]
    },
    {
      "cell_type": "markdown",
      "source": [
        "# [TFLITE](https://www.tensorflow.org/api_docs/python/tf/lite/Interpreter)"
      ],
      "metadata": {
        "id": "aZbiukdcrrA6"
      }
    },
    {
      "cell_type": "markdown",
      "source": [
        "## Convert the Model to the \".tflite\" File"
      ],
      "metadata": {
        "id": "bYfAZN4wykvn"
      }
    },
    {
      "cell_type": "markdown",
      "source": [
        "Note: This new model can be later used on Android devices"
      ],
      "metadata": {
        "id": "m5Eh9oWmzAWd"
      }
    },
    {
      "cell_type": "code",
      "source": [
        "converter = tf.lite.TFLiteConverter.from_saved_model('/model')"
      ],
      "metadata": {
        "id": "z6Dk45MRrjD2"
      },
      "execution_count": 91,
      "outputs": []
    },
    {
      "cell_type": "code",
      "source": [
        "converter.optimizations = [tf.lite.Optimize.DEFAULT]"
      ],
      "metadata": {
        "id": "KPRXpkGCrv48"
      },
      "execution_count": 92,
      "outputs": []
    },
    {
      "cell_type": "code",
      "source": [
        "converter.target_spec.supported_ops = [tf.lite.OpsSet.EXPERIMENTAL_TFLITE_BUILTINS_ACTIVATIONS_INT16_WEIGHTS_INT8]"
      ],
      "metadata": {
        "id": "peGgheH3rWlq"
      },
      "execution_count": 93,
      "outputs": []
    },
    {
      "cell_type": "code",
      "source": [
        "tflite_model = converter.convert()"
      ],
      "metadata": {
        "colab": {
          "base_uri": "https://localhost:8080/"
        },
        "id": "SPmxoy4btNee",
        "outputId": "8c4bffdb-896e-4c00-a888-08e5c3d45b25"
      },
      "execution_count": 94,
      "outputs": [
        {
          "output_type": "stream",
          "name": "stderr",
          "text": [
            "WARNING:absl:Buffer deduplication procedure will be skipped when flatbuffer library is not properly loaded\n"
          ]
        }
      ]
    },
    {
      "cell_type": "code",
      "source": [
        "with open('/content/model.tflite', 'wb') as f:\n",
        "  f.write(tflite_model)"
      ],
      "metadata": {
        "id": "D5rRRuOatU70"
      },
      "execution_count": 95,
      "outputs": []
    },
    {
      "cell_type": "markdown",
      "source": [
        "## Load the Model and Use it (in Python)"
      ],
      "metadata": {
        "id": "9gpHBzLny19Z"
      }
    },
    {
      "cell_type": "code",
      "source": [
        "interpreter = tf.lite.Interpreter('/content/model.tflite')"
      ],
      "metadata": {
        "id": "wHwwuoiwtuM_"
      },
      "execution_count": 96,
      "outputs": []
    },
    {
      "cell_type": "code",
      "source": [
        "interpreter.allocate_tensors() # TensorFlow Lite pre-plans tensor allocations to optimize inference"
      ],
      "metadata": {
        "id": "YpUE3ty_p2oS"
      },
      "execution_count": 97,
      "outputs": []
    },
    {
      "cell_type": "code",
      "source": [
        "input_details = interpreter.get_input_details()\n",
        "output_details = interpreter.get_output_details()"
      ],
      "metadata": {
        "id": "5i-GwZD7xEvZ"
      },
      "execution_count": 98,
      "outputs": []
    },
    {
      "cell_type": "code",
      "source": [
        "type(input_details)"
      ],
      "metadata": {
        "colab": {
          "base_uri": "https://localhost:8080/"
        },
        "id": "BROf_M6s1kt3",
        "outputId": "012d743e-9bb8-4a0d-d26c-9e5da6f60ce8"
      },
      "execution_count": 99,
      "outputs": [
        {
          "output_type": "execute_result",
          "data": {
            "text/plain": [
              "list"
            ]
          },
          "metadata": {},
          "execution_count": 99
        }
      ]
    },
    {
      "cell_type": "code",
      "source": [
        "type(input_details[0])"
      ],
      "metadata": {
        "colab": {
          "base_uri": "https://localhost:8080/"
        },
        "id": "Qfrmewud1nrb",
        "outputId": "47b8e21c-cee8-4e86-bf8c-bc95ffb8a277"
      },
      "execution_count": 100,
      "outputs": [
        {
          "output_type": "execute_result",
          "data": {
            "text/plain": [
              "dict"
            ]
          },
          "metadata": {},
          "execution_count": 100
        }
      ]
    },
    {
      "cell_type": "code",
      "source": [
        "input_details[0].keys()"
      ],
      "metadata": {
        "colab": {
          "base_uri": "https://localhost:8080/"
        },
        "id": "7w1El00l1pSb",
        "outputId": "acf065e8-0323-4692-b45b-b8b19651795d"
      },
      "execution_count": 101,
      "outputs": [
        {
          "output_type": "execute_result",
          "data": {
            "text/plain": [
              "dict_keys(['name', 'index', 'shape', 'shape_signature', 'dtype', 'quantization', 'quantization_parameters', 'sparsity_parameters'])"
            ]
          },
          "metadata": {},
          "execution_count": 101
        }
      ]
    },
    {
      "cell_type": "code",
      "source": [
        "input_details[0]['name']"
      ],
      "metadata": {
        "colab": {
          "base_uri": "https://localhost:8080/",
          "height": 35
        },
        "id": "KrRfWn3A1qsO",
        "outputId": "874ad5a5-5725-4b55-aab7-6557502bbb76"
      },
      "execution_count": 102,
      "outputs": [
        {
          "output_type": "execute_result",
          "data": {
            "text/plain": [
              "'serving_default_input_1:0'"
            ],
            "application/vnd.google.colaboratory.intrinsic+json": {
              "type": "string"
            }
          },
          "metadata": {},
          "execution_count": 102
        }
      ]
    },
    {
      "cell_type": "code",
      "source": [
        "input_details[0]['shape_signature']"
      ],
      "metadata": {
        "colab": {
          "base_uri": "https://localhost:8080/"
        },
        "id": "Ohf4RwAZ1tTH",
        "outputId": "af6f6868-56af-440d-bae7-e6ad4e7b6c92"
      },
      "execution_count": 103,
      "outputs": [
        {
          "output_type": "execute_result",
          "data": {
            "text/plain": [
              "array([  -1, 1000], dtype=int32)"
            ]
          },
          "metadata": {},
          "execution_count": 103
        }
      ]
    },
    {
      "cell_type": "code",
      "source": [
        "input_details[0]['quantization_parameters']"
      ],
      "metadata": {
        "colab": {
          "base_uri": "https://localhost:8080/"
        },
        "id": "0mOUUt771_eC",
        "outputId": "13a008bd-ba01-4370-e82b-521ac3103116"
      },
      "execution_count": 104,
      "outputs": [
        {
          "output_type": "execute_result",
          "data": {
            "text/plain": [
              "{'quantized_dimension': 0,\n",
              " 'scales': array([], dtype=float32),\n",
              " 'zero_points': array([], dtype=int32)}"
            ]
          },
          "metadata": {},
          "execution_count": 104
        }
      ]
    },
    {
      "cell_type": "code",
      "source": [
        "input_details[0]['sparsity_parameters']"
      ],
      "metadata": {
        "colab": {
          "base_uri": "https://localhost:8080/"
        },
        "id": "55f5-Hd72DXv",
        "outputId": "2062b998-f7b0-434a-b16a-73079ce3c93d"
      },
      "execution_count": 105,
      "outputs": [
        {
          "output_type": "execute_result",
          "data": {
            "text/plain": [
              "{}"
            ]
          },
          "metadata": {},
          "execution_count": 105
        }
      ]
    },
    {
      "cell_type": "code",
      "source": [
        "input_details[0]['index']"
      ],
      "metadata": {
        "colab": {
          "base_uri": "https://localhost:8080/"
        },
        "id": "EsDNFIJO2F5N",
        "outputId": "d479fb11-b1a5-41fb-f578-15d319688bbe"
      },
      "execution_count": 106,
      "outputs": [
        {
          "output_type": "execute_result",
          "data": {
            "text/plain": [
              "0"
            ]
          },
          "metadata": {},
          "execution_count": 106
        }
      ]
    },
    {
      "cell_type": "code",
      "source": [
        "input_shape = input_details[0]['shape'] # since the model has only one input\n",
        "input_shape"
      ],
      "metadata": {
        "colab": {
          "base_uri": "https://localhost:8080/"
        },
        "id": "umBBlO_xx9zT",
        "outputId": "8b7123d4-d8ed-4b39-9750-949d2f7faf05"
      },
      "execution_count": 107,
      "outputs": [
        {
          "output_type": "execute_result",
          "data": {
            "text/plain": [
              "array([   1, 1000], dtype=int32)"
            ]
          },
          "metadata": {},
          "execution_count": 107
        }
      ]
    },
    {
      "cell_type": "code",
      "source": [
        "input_data = np.array(np.random.random_sample(input_shape), dtype=np.float32)\n",
        "interpreter.set_tensor(input_details[0]['index'], input_data)"
      ],
      "metadata": {
        "id": "mliOsAQ92Ooj"
      },
      "execution_count": 108,
      "outputs": []
    },
    {
      "cell_type": "code",
      "source": [
        "interpreter.invoke()"
      ],
      "metadata": {
        "id": "PKvQWGl3x2cT"
      },
      "execution_count": 109,
      "outputs": []
    },
    {
      "cell_type": "code",
      "source": [
        "output_data = interpreter.get_tensor(output_details[0]['index'])"
      ],
      "metadata": {
        "id": "UgO-Z1rPx4Ml"
      },
      "execution_count": 110,
      "outputs": []
    },
    {
      "cell_type": "code",
      "source": [
        "output_data"
      ],
      "metadata": {
        "colab": {
          "base_uri": "https://localhost:8080/"
        },
        "id": "rnN3XpnPx59Y",
        "outputId": "5d2ad1f7-d957-4190-e211-b0f30e9afd34"
      },
      "execution_count": 111,
      "outputs": [
        {
          "output_type": "execute_result",
          "data": {
            "text/plain": [
              "array([[0.12089428, 0.12201023, 0.08044706, 0.6186444 , 0.05800402]],\n",
              "      dtype=float32)"
            ]
          },
          "metadata": {},
          "execution_count": 111
        }
      ]
    }
  ]
}